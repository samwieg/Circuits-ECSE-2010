{
 "cells": [
  {
   "cell_type": "markdown",
   "metadata": {},
   "source": [
    "# Alpha Lab 1: Proof of Concepts"
   ]
  },
  {
   "cell_type": "markdown",
   "metadata": {},
   "source": [
    "## Section A"
   ]
  },
  {
   "cell_type": "markdown",
   "metadata": {},
   "source": [
    "### A.1: Ohm's Law"
   ]
  },
  {
   "cell_type": "markdown",
   "metadata": {},
   "source": [
    "#### Building Block"
   ]
  },
  {
   "cell_type": "markdown",
   "metadata": {},
   "source": [
    "To demonstrate the validity of Ohm's Law, we will use this circuit:"
   ]
  },
  {
   "cell_type": "markdown",
   "metadata": {},
   "source": [
    "<img src=\"A1_Circuit.jpg\" alt=\"A1 circuit no op\" width=\"350\"/>"
   ]
  },
  {
   "cell_type": "markdown",
   "metadata": {},
   "source": [
    "Components in this diagram:\n",
    "* One voltage source, $V_{1}$ (5V)\n",
    "* Two resistors, $R_{1}$ (1500$\\Omega$) and $R_{2}$ (3200$\\Omega$)\n",
    "* One ground connection, indicated with a triangle"
   ]
  },
  {
   "cell_type": "markdown",
   "metadata": {},
   "source": [
    "#### Analysis"
   ]
  },
  {
   "cell_type": "markdown",
   "metadata": {},
   "source": [
    "Ohm's Law is a simple equation relating three fundamental aspects of electric circuits: voltage (V), current (I), and resistance (R). Assuming ideal circuitry, knowing 2 of these allows the third to be found with this equation:"
   ]
  },
  {
   "cell_type": "markdown",
   "metadata": {},
   "source": [
    "$$\n",
    "V = IR\n",
    "$$"
   ]
  },
  {
   "cell_type": "markdown",
   "metadata": {},
   "source": [
    "To show that Ohm's Law is valid, we will simulate the above circuit to find values for voltage and current across resistors $R_{1}$ and $R_{2}$, which have a known resistance. Then we will plug these values into the above equation to show that the theoretical values match the simulated values."
   ]
  },
  {
   "cell_type": "markdown",
   "metadata": {},
   "source": [
    "In this circuit, $R_{1}$ has a resistance of 1500$\\Omega$ and $R_{2}$ has a resistance of 3200$\\Omega$. The voltage source attached, $V_{1}$, has a voltage difference of 5V."
   ]
  },
  {
   "cell_type": "markdown",
   "metadata": {},
   "source": [
    "Kirchhoff's Voltage Law (KVL) states that the sum of voltages around a loop must equal 0. We can use this relation in conjunction with Ohm's Law to determine the voltage drops across each resistor:"
   ]
  },
  {
   "cell_type": "markdown",
   "metadata": {},
   "source": [
    "$$\n",
    "-V(V_{1}) + I(R_{1}) * R(R_{1}) + I(R_{2}) * R(R_{2}) = 0\n",
    "$$"
   ]
  },
  {
   "cell_type": "markdown",
   "metadata": {},
   "source": [
    "$$\n",
    "-5V + I(R_{1}) * 1500\\Omega + I(R_{2}) * 3200\\Omega = 0\n",
    "$$"
   ]
  },
  {
   "cell_type": "markdown",
   "metadata": {},
   "source": [
    "Here, the voltage drops associated with each resistor have been replaced with current times resistance, as Ohm's Law shows is equivalent. If Ohm's Law is valid for this circuit, the values determined in this way will match the simulation."
   ]
  },
  {
   "cell_type": "markdown",
   "metadata": {},
   "source": [
    "Kirchhoff's Current Law (KCL) states that the sum of currents entering and leaving a point must equal 0. If we apply this to our circuit, we find that the current is equal at all points. Applying this to our equation yields the following:"
   ]
  },
  {
   "cell_type": "markdown",
   "metadata": {},
   "source": [
    "$$\n",
    "-5V + I * 4700\\Omega = 0\n",
    "$$"
   ]
  },
  {
   "cell_type": "markdown",
   "metadata": {},
   "source": [
    "$$\n",
    "I = \\frac{5V}{4700\\Omega} = 1.06mA\n",
    "$$"
   ]
  },
  {
   "cell_type": "markdown",
   "metadata": {},
   "source": [
    "Using Ohm's Law to solve for the voltage drop across each resistor, we find these values:"
   ]
  },
  {
   "cell_type": "markdown",
   "metadata": {},
   "source": [
    "$$\n",
    "V(R_{1}) = I(R_{1})*R(R_{1}) = {1.06mA}*{1500\\Omega} = 1.60V\n",
    "$$"
   ]
  },
  {
   "cell_type": "markdown",
   "metadata": {},
   "source": [
    "$$\n",
    "V(R_{2}) = I(R_{2})*R(R_{2}) = {1.06mA}*{3200\\Omega} = 3.40V\n",
    "$$"
   ]
  },
  {
   "cell_type": "markdown",
   "metadata": {},
   "source": [
    "With all voltage, current, and resistance values found around the circuit, we can now test our calculations with a simulation."
   ]
  },
  {
   "cell_type": "markdown",
   "metadata": {},
   "source": [
    "#### Simulation"
   ]
  },
  {
   "cell_type": "markdown",
   "metadata": {},
   "source": [
    "<img src=\"A1_Schematic.jpg\" alt=\"a1 circuit\" width=\"350\"/>"
   ]
  },
  {
   "cell_type": "markdown",
   "metadata": {},
   "source": [
    "This screenshot shows the above circuit, now with labeled values from a .op simulation. All values are listed with 3 significant figures, though any trailing zeroes are not included."
   ]
  },
  {
   "cell_type": "markdown",
   "metadata": {},
   "source": [
    "The current is 1.06mA at both points measured; voltage across $R_{1}$ is 5V and voltage across $R_{2}$ is 3.4V. Voltage at the node connected to ground is 0V. The voltage *drop* across each resistor can be found by subtracting the voltages before and after:"
   ]
  },
  {
   "cell_type": "markdown",
   "metadata": {},
   "source": [
    "$$\n",
    "V(R_{1}) = VR1 - VR2\\:\\:\\:\\:\\rightarrow\\:\\:\\:\\:5V - 3.4V = 1.6V\n",
    "$$"
   ]
  },
  {
   "cell_type": "markdown",
   "metadata": {},
   "source": [
    "$$\n",
    "V(R_{2}) = VR2 - VGr\\:\\:\\:\\:\\rightarrow\\:\\:\\:\\:3.4V - 0V = 3.4V\n",
    "$$"
   ]
  },
  {
   "cell_type": "markdown",
   "metadata": {},
   "source": [
    "#### Measurement"
   ]
  },
  {
   "cell_type": "markdown",
   "metadata": {},
   "source": [
    "No physical circuit was built for this concept."
   ]
  },
  {
   "cell_type": "markdown",
   "metadata": {},
   "source": [
    "#### Discussion"
   ]
  },
  {
   "cell_type": "markdown",
   "metadata": {},
   "source": [
    "|       | Calculated | Simulated  |\n",
    "|-------|------------|------------|\n",
    "| V(R1) |   1.60V    |   1.60V    |\n",
    "| V(R2) |   3.40V    |   3.40V    |\n",
    "| I(R1) |   1.06mA   |   1.06mA   |\n",
    "| I(R2) |   1.06mA   |   1.06mA   |"
   ]
  },
  {
   "cell_type": "markdown",
   "metadata": {},
   "source": [
    "The calculated values for this circuit exactly match those produced by the LTSpice simulation. This shows that our initial assumptions (Ohm's Law, KVL, and KCL) were accurate, or suffiently accurate for a simple circuit such as this one."
   ]
  },
  {
   "cell_type": "markdown",
   "metadata": {},
   "source": [
    "### A.3: Polarity in LTSpice"
   ]
  },
  {
   "cell_type": "markdown",
   "metadata": {},
   "source": [
    "#### Building Block"
   ]
  },
  {
   "cell_type": "markdown",
   "metadata": {},
   "source": [
    "To demonstrate how polarity and current direction work in LTSpice, we will use this circuit:"
   ]
  },
  {
   "cell_type": "markdown",
   "metadata": {},
   "source": [
    "<img src=\"A3_Circuit.jpg\" alt=\"a3 circuit no op\" width=\"700\"/>"
   ]
  },
  {
   "cell_type": "markdown",
   "metadata": {},
   "source": [
    "Components in this diagram:\n",
    "* Two voltage sources, $V_{1}$ (10V) and $V_{2}$ (5V)\n",
    "* One current source, $I_{1}$ (2mA)\n",
    "* Five resistors, $R_{1}$ (2000$\\Omega$), $R_{2}$ (6000$\\Omega$), $R_{3}$ (3000$\\Omega$), $R_{4}$ (4000$\\Omega$), and $R_{5}$ (8000$\\Omega$)\n",
    "* One ground connection, indicated with a triangle"
   ]
  },
  {
   "cell_type": "markdown",
   "metadata": {},
   "source": [
    "#### Analysis"
   ]
  },
  {
   "cell_type": "markdown",
   "metadata": {},
   "source": [
    "Current is traditionally defined as flowing from high potential to low potential, or from positive to negative. However, in order to have the correct sign balance when applying relations like Ohm's Law, voltage is considered to be directionally opposite to current. This is known as the *Passive Sign Convention*. "
   ]
  },
  {
   "cell_type": "markdown",
   "metadata": {},
   "source": [
    "<img src=\"https://cdn.kastatic.org/ka-perseus-images/861bdc64adef8c9b22c2c3927a4c010c50a8aa70.svg\" alt=\"khan academy passive sign convention diagram\" width=\"400\"/>"
   ]
  },
  {
   "cell_type": "markdown",
   "metadata": {},
   "source": [
    "*Image source: <ins>https://www.khanacademy.org/science/electrical-engineering/ee-circuit-analysis-topic/circuit-elements/a/ee-sign-convention</ins>*"
   ]
  },
  {
   "cell_type": "markdown",
   "metadata": {},
   "source": [
    "In determining the sign (positive or negative) for current, LTSpice assumes that current always flows from the positive terminal of a component to the negative terminal. This assumption is useful for consistency, but is not always the case."
   ]
  },
  {
   "cell_type": "markdown",
   "metadata": {},
   "source": [
    "For example, a circuit with multiple voltage sources may cause current to flow \"backwards\" through the lower-potential voltage source. This is not an issue for ideal voltage sources, but it is important to note that real-life voltage sources like batteries may have mixed results."
   ]
  },
  {
   "cell_type": "markdown",
   "metadata": {},
   "source": [
    "*To find the directions of current through this circuit*, we can use KCL on each node. It is possible to determine the magnitudes of current by hand, but for this purpose we can use the values calculated by LTSpice (listed below)."
   ]
  },
  {
   "cell_type": "markdown",
   "metadata": {},
   "source": [
    "According to Kirchhoff's Current Law (KCL), the sum of currents entering and leaving a node must equal zero. We will use the convention that currents entering are negative and currents leaving are positive, though this is arbitrary. Then, for each node we can summate all currents as follows:"
   ]
  },
  {
   "cell_type": "markdown",
   "metadata": {},
   "source": [
    "* **Node A:** $\\:\\:I(V_{1}) + I(R_{1}) = 0$\n",
    "* **Node B:** $\\:\\:I(R_{1}) + I(R_{4}) + I(R_{3}) + I(R_{2}) = 0$\n",
    "* **Node C:** $\\:\\:I(R_{3}) - 2mA = 0$\n",
    "* **Node D:** $\\:\\:I(R_{4}) + I(R_{5}) + I(V_{2}) + 2mA = 0$\n",
    "* **Node E:** $\\:\\:I(V_{1}) + I(R_{2}) + I(R_{5}) + I(V_{2}) = 0$"
   ]
  },
  {
   "cell_type": "markdown",
   "metadata": {},
   "source": [
    "There is one value we can solve for directly: $I(R_{3})$. The equation for Node C shows us that this is *positive* 2mA, where positive means out of the node—that is, toward Node B, or leftward in the diagram."
   ]
  },
  {
   "cell_type": "markdown",
   "metadata": {},
   "source": [
    "With current magnitudes included, the equation for Node B is now as follows:"
   ]
  },
  {
   "cell_type": "markdown",
   "metadata": {},
   "source": [
    "$$\n",
    "I(R_{1}) + I(R_{4}) + I(R_{3}) + I(R_{2}) = 0\n",
    "$$"
   ]
  },
  {
   "cell_type": "markdown",
   "metadata": {},
   "source": [
    "$$\n",
    "±0.5mA ± 1mA - 2mA ± 1.5mA = 0 \n",
    "$$"
   ]
  },
  {
   "cell_type": "markdown",
   "metadata": {},
   "source": [
    "$$\n",
    "1mA + 1.5mA = 0.5mA + 2mA\n",
    "$$"
   ]
  },
  {
   "cell_type": "markdown",
   "metadata": {},
   "source": [
    "The two currents on the left side, $I(R_{4})$ and $I(R_{2})$, are leaving the node; the two currents on the right side, $I(R_{1})$ and $I(R_{3})$, are entering the node. Note that when we plugged in the value for $I(R_{3})$, it was *negative*. This is because the reference direction for Node B is opposite that for Node C."
   ]
  },
  {
   "cell_type": "markdown",
   "metadata": {},
   "source": [
    "Now we can solve for the remaining nodes, using the known directions of these four currents. The left side will be used to indicate positive (exiting) currents, and the right side will indicate negative (entering) currents."
   ]
  },
  {
   "cell_type": "markdown",
   "metadata": {},
   "source": [
    "* **Node A:** $\\:\\:0.5mA ± 0.5mA = 0\\:\\:\\:\\:\\rightarrow\\:\\:\\:\\:0.5mA = 0.5mA$\n",
    "* **Node B:** (shown above)\n",
    "* **Node C:** (shown above)\n",
    "* **Node D:** $\\:\\:-1mA ± 0.625mA ± 1.625mA + 2mA = 0\\:\\:\\:\\:\\rightarrow\\:\\:\\:\\:2mA + 0.625mA = 1mA + 1.625mA$\n",
    "* **Node E:** $\\:\\:0.5mA - 1.5mA - 0.625mA + 1.625mA\\:\\:\\:\\:\\rightarrow\\:\\:\\:\\:0.5mA + 1.625mA = 0.625mA + 1.5mA$"
   ]
  },
  {
   "cell_type": "markdown",
   "metadata": {},
   "source": [
    "<img src=\"A3_Circuit_Arrows.jpg\" alt=\"a3 circuit arrows\" width=\"750\"/>"
   ]
  },
  {
   "cell_type": "markdown",
   "metadata": {},
   "source": [
    "Here is the circuit displayed with all current directions labeled."
   ]
  },
  {
   "cell_type": "markdown",
   "metadata": {},
   "source": [
    "The easiest way to compare this to an LTSpice simulation is to check the direction of the current against a component with displayed terminals, i.e., a voltage source. Because the direction of the current source is definitive, the direction of current at each voltage source should be as calculated—from negative to positive terminal for both $V_{1}$ and $V_{2}$."
   ]
  },
  {
   "cell_type": "markdown",
   "metadata": {},
   "source": [
    "In LTSpice, a component with current flowing from negative to positive will display a negative current. By checking for negative current values, we can therefore determine the direction of current. If the simulation determines polarity as expected (always positive to negative), both voltage sources will display a negative current."
   ]
  },
  {
   "cell_type": "markdown",
   "metadata": {},
   "source": [
    "#### Simulation"
   ]
  },
  {
   "cell_type": "markdown",
   "metadata": {},
   "source": [
    "<img src=\"A3_Schematic.jpg\" alt=\"a3 circuit\" width=\"700\"/>"
   ]
  },
  {
   "cell_type": "markdown",
   "metadata": {},
   "source": [
    "In this diagram, all node voltages are labeled as well as the current across each resistor and voltage source. Values are reported to three significant figures, omitting trailing zeroes."
   ]
  },
  {
   "cell_type": "markdown",
   "metadata": {},
   "source": [
    "The voltages for Nodes A, B, C, D, and E are respectively 10V, 9V, 15V, 5V, and 0V."
   ]
  },
  {
   "cell_type": "markdown",
   "metadata": {},
   "source": [
    "The currents across resistors $R_{1}$, $R_{2}$, $R_{3}$, $R_{4}$, and $R_{5}$ are respectively 500uA, 1.5mA, 2mA, 1mA, and 625uA. The currents across voltage sources $V_{1}$ and $V_{2}$ are respectively -500uA and -1.63mA."
   ]
  },
  {
   "cell_type": "markdown",
   "metadata": {},
   "source": [
    "<img src=\"A3_Schematic_Reversed.jpg\" alt=\"a3 circuit reversed resistors\" width=\"700\"/>"
   ]
  },
  {
   "cell_type": "markdown",
   "metadata": {},
   "source": [
    "This screenshot is identical to the previous, except each resistor has been rotated 180°. All values are the same except that the current through each resistor is now negative, rather than positive."
   ]
  },
  {
   "cell_type": "markdown",
   "metadata": {},
   "source": [
    "#### Measurement"
   ]
  },
  {
   "cell_type": "markdown",
   "metadata": {},
   "source": [
    "No physical circuit was built for this concept."
   ]
  },
  {
   "cell_type": "markdown",
   "metadata": {},
   "source": [
    "#### Discussion"
   ]
  },
  {
   "cell_type": "markdown",
   "metadata": {},
   "source": [
    "As predicted, the currents across both $V_{1}$ and $V_{2}$ were negative (-500uA and -1.625mA). This shows that LTSpice defines positive current as flowing opposite to the current across both voltage sources—that is, exclusively from positive to negative."
   ]
  },
  {
   "cell_type": "markdown",
   "metadata": {},
   "source": [
    "The inclusion of the second simulation, where all resistors have been rotated, is to demonstrate that LTSpice designates resistors with a positive and negative terminal as well, though it is not displayed. When a resistor is rotated such that the current through it runs from negative to positive, the current is shown to be negative."
   ]
  },
  {
   "cell_type": "markdown",
   "metadata": {},
   "source": [
    "Typically this is not of importance; when displaying a circuit, the current labels can be edited to show $-I(R)$ rather than $I(R)$, or any backwards resistors can be rotated. It is, however, symptomatic of LTSpice's broader assumption about polarity, and may occasionally be a useful indicator for the direction of current."
   ]
  },
  {
   "cell_type": "markdown",
   "metadata": {},
   "source": [
    "### A.5: Confirmation of HW1-5 IR5"
   ]
  },
  {
   "cell_type": "markdown",
   "metadata": {},
   "source": [
    "#### Building Block"
   ]
  },
  {
   "cell_type": "markdown",
   "metadata": {},
   "source": [
    "Homework \\#1, Question 5, provides the following circuit:"
   ]
  },
  {
   "cell_type": "markdown",
   "metadata": {},
   "source": [
    "<img src=\"A3_Circuit.jpg\" alt=\"a3 circuit no op\" width=\"700\"/>"
   ]
  },
  {
   "cell_type": "markdown",
   "metadata": {},
   "source": [
    "Components in this diagram:\n",
    "* Two voltage sources, $V_{1}$ (10V) and $V_{2}$ (5V)\n",
    "* One current source, $I_{1}$ (2mA)\n",
    "* Five resistors, $R_{1}$ (2000$\\Omega$), $R_{2}$ (6000$\\Omega$), $R_{3}$ (3000$\\Omega$), $R_{4}$ (4000$\\Omega$), and $R_{5}$ (8000$\\Omega$)\n",
    "* One ground connection, indicated with a triangle"
   ]
  },
  {
   "cell_type": "markdown",
   "metadata": {},
   "source": [
    "This proof of concept will compare a hand calculation of the current across $R_{5}$ to a simulation performed in LTSpice."
   ]
  },
  {
   "cell_type": "markdown",
   "metadata": {},
   "source": [
    "#### Analysis"
   ]
  },
  {
   "cell_type": "markdown",
   "metadata": {},
   "source": [
    "The circuit as a whole can be solved with techniques such as KVL, KCL, Ohm's Law, nodal analysis, and mesh analysis. However, for the purposes of this demonstration, we need only determine $I(R_{5})$, the current across $R_{5}$. This is much simpler and relies on a few observations about the circuit."
   ]
  },
  {
   "cell_type": "markdown",
   "metadata": {},
   "source": [
    "First, $R_{5}$ is attached to the node with the ground connection (Node E). This is our reference node, which will always have a voltage of 0V. Therefore, the voltage across $R_{5}$ can be determined by finding the voltage at only one other node—the node on the other side of $R_{5}$, Node D."
   ]
  },
  {
   "cell_type": "markdown",
   "metadata": {},
   "source": [
    "This is very convenient for us because Node D is directly attached to voltage source $V_{2}$, which is also attached to Node E. Barring exceptions, when a voltage source is directly connected to ground (Node E), the node on its other side (Node D) will have a positive or negative voltage equal to that of the voltage source. That is, Node D should have a voltage of ±5V."
   ]
  },
  {
   "cell_type": "markdown",
   "metadata": {},
   "source": [
    "By convention, the positive terminal of a battery or voltage source is the side with a higher potential (greater voltage). In this circuit, $V_{2}$ has its negative side connected to ground (Node E) and positive side connected to Node D. This tells us that Node D must have a positive voltage so that it has a higher potential than ground. Therefore, Node D has a voltage of 5V."
   ]
  },
  {
   "cell_type": "markdown",
   "metadata": {},
   "source": [
    "The voltage across a resistor is equal to the potential difference (voltage difference) between the two nodes it connects to. Now we can solve for the voltage across $R_{5}$:"
   ]
  },
  {
   "cell_type": "markdown",
   "metadata": {},
   "source": [
    "$$\n",
    "V(R_{5}) = V_{D} - V_{E}\\:\\:\\:\\:\\rightarrow\\:\\:\\:\\:5V - 0V = 5V\n",
    "$$"
   ]
  },
  {
   "cell_type": "markdown",
   "metadata": {},
   "source": [
    "Using Ohm's Law (shown in A.1), any of voltage, current, or resistance across a component can be determined if two of these values are known. In this case, $R_{5}$ has a given resistance of 8000$\\Omega$, and the above equation shows that the voltage across $R_{5}$ is 5V. We can now solve for current across the resistor:"
   ]
  },
  {
   "cell_type": "markdown",
   "metadata": {},
   "source": [
    "$$\n",
    "V = IR\\:\\:\\:\\:\\rightarrow\\:\\:\\:\\:I = \\frac{V}{R}\n",
    "$$"
   ]
  },
  {
   "cell_type": "markdown",
   "metadata": {},
   "source": [
    "$$\n",
    "I(R_{5}) = \\frac{5V}{8000\\Omega} = 625\\mu A\n",
    "$$"
   ]
  },
  {
   "cell_type": "markdown",
   "metadata": {},
   "source": [
    "This can now be verified with a simulation in LTSpice."
   ]
  },
  {
   "cell_type": "markdown",
   "metadata": {},
   "source": [
    "#### Simulation"
   ]
  },
  {
   "cell_type": "markdown",
   "metadata": {},
   "source": [
    "<img src=\"A5_Schematic.jpg\" alt=\"a5 circuit\" width=\"700\">"
   ]
  },
  {
   "cell_type": "markdown",
   "metadata": {},
   "source": [
    "This diagram shows the circuit after applying a .op simulation. Values labeled are to three significant figures, omitting trailing zeroes."
   ]
  },
  {
   "cell_type": "markdown",
   "metadata": {},
   "source": [
    "Labeled are the voltages at Node D ($V_{D}$) and Node E ($V_{E}$) as well as the current across $R_{5}$. The voltages are calculated to be 5V and 0V, respectively, and the current is 6.25e-4A."
   ]
  },
  {
   "cell_type": "markdown",
   "metadata": {},
   "source": [
    "#### Measurement"
   ]
  },
  {
   "cell_type": "markdown",
   "metadata": {},
   "source": [
    "No physical circuit was built for this concept."
   ]
  },
  {
   "cell_type": "markdown",
   "metadata": {},
   "source": [
    "#### Discussion"
   ]
  },
  {
   "cell_type": "markdown",
   "metadata": {},
   "source": [
    "|       | Calculated | Simulated  |\n",
    "|-------|------------|------------|\n",
    "| V(D)  |   5V    |   5V    |\n",
    "| V(E) |   0V    |   0V    |\n",
    "| I(R5) |   625uA   |   625uA   |"
   ]
  },
  {
   "cell_type": "markdown",
   "metadata": {},
   "source": [
    "The calculated values for this circuit exactly match those produced by the LTSpice simulation. This validates our earlier observations about the ground connection and voltage source, and further shows the validity of Ohm's Law for this circuit."
   ]
  }
 ],
 "metadata": {
  "kernelspec": {
   "display_name": "Python 3",
   "language": "python",
   "name": "python3"
  },
  "language_info": {
   "codemirror_mode": {
    "name": "ipython",
    "version": 3
   },
   "file_extension": ".py",
   "mimetype": "text/x-python",
   "name": "python",
   "nbconvert_exporter": "python",
   "pygments_lexer": "ipython3",
   "version": "3.7.6"
  }
 },
 "nbformat": 4,
 "nbformat_minor": 4
}
